{
 "cells": [
  {
   "cell_type": "markdown",
   "metadata": {},
   "source": [
    "# Initialization"
   ]
  },
  {
   "cell_type": "code",
   "execution_count": null,
   "metadata": {},
   "outputs": [],
   "source": [
    "# Standard includes\n",
    "%matplotlib inline\n",
    "import pickle\n",
    "import matplotlib.pyplot as plt\n",
    "import matplotlib as mpl"
   ]
  },
  {
   "cell_type": "code",
   "execution_count": null,
   "metadata": {},
   "outputs": [],
   "source": [
    "# Style setup\n",
    "import seaborn as sns\n",
    "\n",
    "sns.set_palette(\"muted\")\n",
    "sns.set_color_codes()\n",
    "sns.set_style(\"ticks\")\n",
    "sns.set_style({\"xtick.direction\": \"in\", \"ytick.direction\": \"in\"})\n",
    "sns.set_style({\"axes.grid\": \"True\", \"grid.color\": \"0.95\"})\n",
    "\n",
    "plt.rcParams[\"figure.figsize\"] = [6, 6]\n",
    "plt.rcParams[\"figure.dpi\"] = 100\n",
    "plt.rcParams['axes.formatter.min_exponent'] = 0"
   ]
  },
  {
   "cell_type": "code",
   "execution_count": null,
   "metadata": {},
   "outputs": [],
   "source": [
    "import mplhep as hep\n",
    "hep.set_style(\"LHCb2\")\n",
    "\n",
    "plt.rcParams[\"font.size\"] = 28\n",
    "plt.rcParams[\"figure.dpi\"] = 50  # Comment out/set to 300 for production plots\n",
    "plt.rcParams['axes.formatter.min_exponent'] = 0"
   ]
  },
  {
   "cell_type": "markdown",
   "metadata": {},
   "source": [
    "# Data"
   ]
  },
  {
   "cell_type": "code",
   "execution_count": null,
   "metadata": {},
   "outputs": [],
   "source": [
    "hists = {}\n",
    "particles = [\"K\", \"pi\"]\n",
    "cuts = [\"DLLK>0\", \"DLLK>5\"]\n",
    "\n",
    "for particle in particles:\n",
    "    for cut in cuts:\n",
    "        with open(\n",
    "            f\"../pidcalib_output_many/effhists_2018_up_{particle}_{cut}_P.pkl\", \"rb\"\n",
    "        ) as f:\n",
    "            hists[f\"{particle}_{cut}\"] = pickle.load(f)"
   ]
  },
  {
   "cell_type": "code",
   "execution_count": null,
   "metadata": {},
   "outputs": [],
   "source": [
    "hists2 = {}\n",
    "particles = [\"K\", \"pi\"]\n",
    "cuts2 = [f\"DLLK>{cut}\" for cut in range(-20, 21)]\n",
    "mags = [\"up\", \"down\"]\n",
    "\n",
    "for mag in mags:\n",
    "    for particle in particles:\n",
    "        for cut in cuts2:\n",
    "            with open(\n",
    "                f\"../pidcalib_output_many/effhists_2018_{mag}_{particle}_{cut}_P.pkl\", \"rb\"\n",
    "            ) as f:\n",
    "                hists2[f\"eff_{particle}_{mag}_{cut}\"] = pickle.load(f)\n",
    "                hists2[f\"passing_{particle}_{mag}_{cut}\"] = pickle.load(f)\n",
    "                hists2[f\"total_{particle}_{mag}_{cut}\"] = pickle.load(f)"
   ]
  },
  {
   "cell_type": "markdown",
   "metadata": {},
   "source": [
    "# Plots"
   ]
  },
  {
   "cell_type": "code",
   "execution_count": null,
   "metadata": {},
   "outputs": [],
   "source": [
    "plots_save = True\n",
    "plots_format = \".pdf\""
   ]
  },
  {
   "cell_type": "markdown",
   "metadata": {},
   "source": [
    "## Efficiency vs Momentum"
   ]
  },
  {
   "cell_type": "code",
   "execution_count": null,
   "metadata": {},
   "outputs": [],
   "source": [
    "colors = {\n",
    "    \"K_DLLK>0\": \"xkcd:light salmon\",\n",
    "    \"K_DLLK>5\": \"xkcd:red\",\n",
    "    \"pi_DLLK>0\": \"xkcd:pastel blue\",\n",
    "    \"pi_DLLK>5\": \"xkcd:blue\",\n",
    "}\n",
    "for name, hist in hists.items():\n",
    "    plt.hist(\n",
    "        hist.axes[0].edges[:-1],\n",
    "        bins=hist.axes[0].edges,\n",
    "        weights=hist.view(),\n",
    "        histtype=\"stepfilled\",\n",
    "        label=name.replace(\"_\", \" \").replace(\"pi\", \"$\\pi$\"),\n",
    "        color=colors[name],\n",
    "        edgecolor=colors[name],\n",
    "        linewidth=1.5,\n",
    "        fc=(*mpl.colors.to_rgb(colors[name]), 0.03)\n",
    "    )\n",
    "plt.ylim(top=1.35)\n",
    "plt.margins(x=-0.01)\n",
    "plt.legend()\n",
    "plt.xlabel(\"Momentum [MeV/c]\")\n",
    "plt.ylabel(\"Efficiency\")\n",
    "plt.figtext(0.2, 0.8, 'LHCb\\n $\\sqrt{s}$=13 TeV 2018 Validation')\n",
    "if plots_save:\n",
    "    plt.savefig(\"eff_v_mom_fill\" + plots_format)"
   ]
  },
  {
   "cell_type": "code",
   "execution_count": null,
   "metadata": {},
   "outputs": [],
   "source": [
    "colors = {\n",
    "    \"K_DLLK>0\": \"xkcd:light salmon\",\n",
    "    \"K_DLLK>5\": \"xkcd:red\",\n",
    "    \"pi_DLLK>0\": \"xkcd:pastel blue\",\n",
    "    \"pi_DLLK>5\": \"xkcd:blue\",\n",
    "}\n",
    "for name, hist in hists.items():\n",
    "    plt.hist(\n",
    "        hist.axes[0].edges[:-1],\n",
    "        bins=hist.axes[0].edges,\n",
    "        weights=hist.view(),\n",
    "        histtype=\"step\",\n",
    "        label=name.replace(\"_\", \" \").replace(\"pi\", \"$\\pi$\"),\n",
    "        color=colors[name],\n",
    "        linewidth=1.5,\n",
    "    )\n",
    "plt.ylim(top=1.35)\n",
    "plt.margins(x=-0.01)\n",
    "plt.legend()\n",
    "plt.xlabel(\"Momentum [MeV/c]\")\n",
    "plt.ylabel(\"Efficiency\")\n",
    "plt.figtext(0.2, 0.8, 'LHCb\\n $\\sqrt{s}$=13 TeV 2018 Validation')\n",
    "if plots_save:\n",
    "    plt.savefig(\"eff_v_mom_nofill\" + plots_format)"
   ]
  },
  {
   "cell_type": "markdown",
   "metadata": {},
   "source": [
    "## ID Efficiency vs Mis-ID Efficiency"
   ]
  },
  {
   "cell_type": "code",
   "execution_count": null,
   "metadata": {},
   "outputs": [],
   "source": [
    "K_eff_up = [\n",
    "    hists2[f\"passing_K_up_{cut}\"].sum() / hists2[f\"total_K_up_{cut}\"].sum() for cut in cuts2\n",
    "]\n",
    "\n",
    "pi_eff_up = [\n",
    "    hists2[f\"passing_pi_up_{cut}\"].sum() / hists2[f\"total_pi_up_{cut}\"].sum() for cut in cuts2\n",
    "]\n",
    "\n",
    "K_eff_down = [\n",
    "    hists2[f\"passing_K_down_{cut}\"].sum() / hists2[f\"total_K_down_{cut}\"].sum() for cut in cuts2\n",
    "]\n",
    "\n",
    "pi_eff_down = [\n",
    "    hists2[f\"passing_pi_down_{cut}\"].sum() / hists2[f\"total_pi_down_{cut}\"].sum() for cut in cuts2\n",
    "]"
   ]
  },
  {
   "cell_type": "code",
   "execution_count": null,
   "metadata": {},
   "outputs": [],
   "source": [
    "plt.plot(K_eff_up, pi_eff_up, \"s-\", markersize=8, label=\"2018 MagUp\")\n",
    "plt.plot(K_eff_down, pi_eff_down, \".-\", label=\"2018 MagDown\")\n",
    "plt.yscale(\"log\")\n",
    "plt.xlabel(\"Kaon ID Efficiency\")\n",
    "plt.ylabel(\"Pion Mis-ID Efficiency\")\n",
    "plt.figtext(0.2, 0.8, 'LHCb\\n $\\sqrt{s}$=13 TeV 2018 Validation')\n",
    "plt.legend(bbox_to_anchor=(0.02, 0.8), loc='upper left')\n",
    "if plots_save:\n",
    "    plt.savefig(\"k_id_v_pi_mid_markers\" + plots_format)"
   ]
  },
  {
   "cell_type": "code",
   "execution_count": null,
   "metadata": {},
   "outputs": [],
   "source": [
    "plt.plot(K_eff_up, pi_eff_up, label=\"2018 MagUp\")\n",
    "plt.plot(K_eff_down, pi_eff_down, \"--\", label=\"2018 MagDown\")\n",
    "plt.yscale(\"log\")\n",
    "plt.xlabel(\"Kaon ID Efficiency\")\n",
    "plt.ylabel(\"Pion Mis-ID Efficiency\")\n",
    "plt.figtext(0.2, 0.8, 'LHCb\\n $\\sqrt{s}$=13 TeV 2018 Validation')\n",
    "plt.legend(bbox_to_anchor=(0.02, 0.8), loc='upper left')\n",
    "if plots_save:\n",
    "    plt.savefig(\"k_id_v_pi_mid_nomarkers\" + plots_format)"
   ]
  },
  {
   "cell_type": "code",
   "execution_count": null,
   "metadata": {},
   "outputs": [],
   "source": []
  }
 ],
 "metadata": {
  "kernelspec": {
   "display_name": "Python 3",
   "language": "python",
   "name": "python3"
  },
  "language_info": {
   "codemirror_mode": {
    "name": "ipython",
    "version": 3
   },
   "file_extension": ".py",
   "mimetype": "text/x-python",
   "name": "python",
   "nbconvert_exporter": "python",
   "pygments_lexer": "ipython3",
   "version": "3.6.9"
  }
 },
 "nbformat": 4,
 "nbformat_minor": 4
}
